{
 "cells": [
  {
   "cell_type": "markdown",
   "metadata": {},
   "source": [
    "# Project: No-Show Appointments Analysis \n",
    "\n",
    "## Table of Contents\n",
    "<ul>\n",
    "<li><a href=\"#intro\">Introduction</a></li>\n",
    "<li><a href=\"#wrangle\">Data Wrangling</a></li>\n",
    "<li><a href='#explore'>Exploration</a></li>\n",
    "<li><a href='#conclusion'>Conclusion</a></li>\n",
    "</ul>"
   ]
  },
  {
   "cell_type": "markdown",
   "metadata": {},
   "source": [
    "<a id='intro'></a>\n",
    "<p><h3> Introduction</h3></p>\n",
    ">**Dataset** This dataset collects information from 100k medical appointments in Brazil and is focused on the question of whether or not patients show up for their appointment.<br>\n",
    ">**Question 1** The % of No-shows based on the interval between scheduled data of appointmet and actual date of appointment, and impact of SMS_RECEIVED on No-shows.<br>\n",
    ">**Question 2** Comparing hospitals which have high interval time (interval time= difference between scheduled date and appointment data) and hospitals which have low interval time. And find out which day of the week are busiest for the hospitals"
   ]
  },
  {
   "cell_type": "code",
   "execution_count": 1,
   "metadata": {
    "collapsed": true
   },
   "outputs": [],
   "source": [
    "import pandas as pd\n",
    "import numpy as np\n",
    "%matplotlib inline"
   ]
  },
  {
   "cell_type": "markdown",
   "metadata": {},
   "source": [
    "<a id='wrangle'></a>\n",
    "<p id='#wrangle'> <h3> Data Wrangling</h3></p>\n",
    "> **Loading** the dataset and adding essential coloums for exploration, and cleaning any anamolus values present in the data"
   ]
  },
  {
   "cell_type": "code",
   "execution_count": 2,
   "metadata": {
    "collapsed": true
   },
   "outputs": [],
   "source": [
    "hosp_data=pd.read_csv('C:/Users/rchak/Downloads/noshow.csv')\n",
    "df=pd.DataFrame(hosp_data)"
   ]
  },
  {
   "cell_type": "markdown",
   "metadata": {},
   "source": [
    ">**Adding an Interval coloumn**"
   ]
  },
  {
   "cell_type": "code",
   "execution_count": 3,
   "metadata": {
    "collapsed": true
   },
   "outputs": [],
   "source": [
    "df['AppointmentDay']=pd.to_datetime(df['AppointmentDay'])\n",
    "df['ScheduledDay']=pd.to_datetime(df['ScheduledDay'])\n",
    "scheduled=df['ScheduledDay'].dt.date\n",
    "appointment=df['AppointmentDay'].dt.date\n",
    "interval=appointment-scheduled                             # difference between scheduled date and appointment date\n",
    "df['appoint_interval']=interval\n",
    "df['appoint_interval']=df['appoint_interval'].astype('timedelta64[D]')"
   ]
  },
  {
   "cell_type": "code",
   "execution_count": 4,
   "metadata": {},
   "outputs": [
    {
     "data": {
      "text/html": [
       "<div>\n",
       "<style>\n",
       "    .dataframe thead tr:only-child th {\n",
       "        text-align: right;\n",
       "    }\n",
       "\n",
       "    .dataframe thead th {\n",
       "        text-align: left;\n",
       "    }\n",
       "\n",
       "    .dataframe tbody tr th {\n",
       "        vertical-align: top;\n",
       "    }\n",
       "</style>\n",
       "<table border=\"1\" class=\"dataframe\">\n",
       "  <thead>\n",
       "    <tr style=\"text-align: right;\">\n",
       "      <th></th>\n",
       "      <th>PatientId</th>\n",
       "      <th>AppointmentID</th>\n",
       "      <th>Age</th>\n",
       "      <th>Scholarship</th>\n",
       "      <th>Hipertension</th>\n",
       "      <th>Diabetes</th>\n",
       "      <th>Alcoholism</th>\n",
       "      <th>Handcap</th>\n",
       "      <th>SMS_received</th>\n",
       "      <th>appoint_interval</th>\n",
       "    </tr>\n",
       "  </thead>\n",
       "  <tbody>\n",
       "    <tr>\n",
       "      <th>count</th>\n",
       "      <td>1.105270e+05</td>\n",
       "      <td>1.105270e+05</td>\n",
       "      <td>110527.000000</td>\n",
       "      <td>110527.000000</td>\n",
       "      <td>110527.000000</td>\n",
       "      <td>110527.000000</td>\n",
       "      <td>110527.000000</td>\n",
       "      <td>110527.000000</td>\n",
       "      <td>110527.000000</td>\n",
       "      <td>110527.000000</td>\n",
       "    </tr>\n",
       "    <tr>\n",
       "      <th>mean</th>\n",
       "      <td>1.474963e+14</td>\n",
       "      <td>5.675305e+06</td>\n",
       "      <td>37.088874</td>\n",
       "      <td>0.098266</td>\n",
       "      <td>0.197246</td>\n",
       "      <td>0.071865</td>\n",
       "      <td>0.030400</td>\n",
       "      <td>0.022248</td>\n",
       "      <td>0.321026</td>\n",
       "      <td>10.183702</td>\n",
       "    </tr>\n",
       "    <tr>\n",
       "      <th>std</th>\n",
       "      <td>2.560949e+14</td>\n",
       "      <td>7.129575e+04</td>\n",
       "      <td>23.110205</td>\n",
       "      <td>0.297675</td>\n",
       "      <td>0.397921</td>\n",
       "      <td>0.258265</td>\n",
       "      <td>0.171686</td>\n",
       "      <td>0.161543</td>\n",
       "      <td>0.466873</td>\n",
       "      <td>15.254996</td>\n",
       "    </tr>\n",
       "    <tr>\n",
       "      <th>min</th>\n",
       "      <td>3.921784e+04</td>\n",
       "      <td>5.030230e+06</td>\n",
       "      <td>-1.000000</td>\n",
       "      <td>0.000000</td>\n",
       "      <td>0.000000</td>\n",
       "      <td>0.000000</td>\n",
       "      <td>0.000000</td>\n",
       "      <td>0.000000</td>\n",
       "      <td>0.000000</td>\n",
       "      <td>-6.000000</td>\n",
       "    </tr>\n",
       "    <tr>\n",
       "      <th>25%</th>\n",
       "      <td>4.172614e+12</td>\n",
       "      <td>5.640286e+06</td>\n",
       "      <td>18.000000</td>\n",
       "      <td>0.000000</td>\n",
       "      <td>0.000000</td>\n",
       "      <td>0.000000</td>\n",
       "      <td>0.000000</td>\n",
       "      <td>0.000000</td>\n",
       "      <td>0.000000</td>\n",
       "      <td>0.000000</td>\n",
       "    </tr>\n",
       "    <tr>\n",
       "      <th>50%</th>\n",
       "      <td>3.173184e+13</td>\n",
       "      <td>5.680573e+06</td>\n",
       "      <td>37.000000</td>\n",
       "      <td>0.000000</td>\n",
       "      <td>0.000000</td>\n",
       "      <td>0.000000</td>\n",
       "      <td>0.000000</td>\n",
       "      <td>0.000000</td>\n",
       "      <td>0.000000</td>\n",
       "      <td>4.000000</td>\n",
       "    </tr>\n",
       "    <tr>\n",
       "      <th>75%</th>\n",
       "      <td>9.439172e+13</td>\n",
       "      <td>5.725524e+06</td>\n",
       "      <td>55.000000</td>\n",
       "      <td>0.000000</td>\n",
       "      <td>0.000000</td>\n",
       "      <td>0.000000</td>\n",
       "      <td>0.000000</td>\n",
       "      <td>0.000000</td>\n",
       "      <td>1.000000</td>\n",
       "      <td>15.000000</td>\n",
       "    </tr>\n",
       "    <tr>\n",
       "      <th>max</th>\n",
       "      <td>9.999816e+14</td>\n",
       "      <td>5.790484e+06</td>\n",
       "      <td>115.000000</td>\n",
       "      <td>1.000000</td>\n",
       "      <td>1.000000</td>\n",
       "      <td>1.000000</td>\n",
       "      <td>1.000000</td>\n",
       "      <td>4.000000</td>\n",
       "      <td>1.000000</td>\n",
       "      <td>179.000000</td>\n",
       "    </tr>\n",
       "  </tbody>\n",
       "</table>\n",
       "</div>"
      ],
      "text/plain": [
       "          PatientId  AppointmentID            Age    Scholarship  \\\n",
       "count  1.105270e+05   1.105270e+05  110527.000000  110527.000000   \n",
       "mean   1.474963e+14   5.675305e+06      37.088874       0.098266   \n",
       "std    2.560949e+14   7.129575e+04      23.110205       0.297675   \n",
       "min    3.921784e+04   5.030230e+06      -1.000000       0.000000   \n",
       "25%    4.172614e+12   5.640286e+06      18.000000       0.000000   \n",
       "50%    3.173184e+13   5.680573e+06      37.000000       0.000000   \n",
       "75%    9.439172e+13   5.725524e+06      55.000000       0.000000   \n",
       "max    9.999816e+14   5.790484e+06     115.000000       1.000000   \n",
       "\n",
       "        Hipertension       Diabetes     Alcoholism        Handcap  \\\n",
       "count  110527.000000  110527.000000  110527.000000  110527.000000   \n",
       "mean        0.197246       0.071865       0.030400       0.022248   \n",
       "std         0.397921       0.258265       0.171686       0.161543   \n",
       "min         0.000000       0.000000       0.000000       0.000000   \n",
       "25%         0.000000       0.000000       0.000000       0.000000   \n",
       "50%         0.000000       0.000000       0.000000       0.000000   \n",
       "75%         0.000000       0.000000       0.000000       0.000000   \n",
       "max         1.000000       1.000000       1.000000       4.000000   \n",
       "\n",
       "        SMS_received  appoint_interval  \n",
       "count  110527.000000     110527.000000  \n",
       "mean        0.321026         10.183702  \n",
       "std         0.466873         15.254996  \n",
       "min         0.000000         -6.000000  \n",
       "25%         0.000000          0.000000  \n",
       "50%         0.000000          4.000000  \n",
       "75%         1.000000         15.000000  \n",
       "max         1.000000        179.000000  "
      ]
     },
     "execution_count": 4,
     "metadata": {},
     "output_type": "execute_result"
    }
   ],
   "source": [
    "df.describe()"
   ]
  },
  {
   "cell_type": "markdown",
   "metadata": {},
   "source": [
    "> We can see that there are values where appointment date comes before scheduled date and some entries in age where age is less tan 0 which is not possible, so we are going to delete those entries"
   ]
  },
  {
   "cell_type": "code",
   "execution_count": 5,
   "metadata": {},
   "outputs": [
    {
     "name": "stdout",
     "output_type": "stream",
     "text": [
      "          PatientId  AppointmentID Gender        ScheduledDay AppointmentDay  \\\n",
      "27033  7.839273e+12        5679978      M 2016-05-10 10:51:53     2016-05-09   \n",
      "55226  7.896294e+12        5715660      F 2016-05-18 14:50:41     2016-05-17   \n",
      "64175  2.425226e+13        5664962      F 2016-05-05 13:43:58     2016-05-04   \n",
      "71533  9.982316e+14        5686628      F 2016-05-11 13:49:20     2016-05-05   \n",
      "72362  3.787482e+12        5655637      M 2016-05-04 06:50:57     2016-05-03   \n",
      "\n",
      "       Age  Neighbourhood  Scholarship  Hipertension  Diabetes  Alcoholism  \\\n",
      "27033   38    RESISTÊNCIA            0             0         0           0   \n",
      "55226   19  SANTO ANTÔNIO            0             0         0           0   \n",
      "64175   22     CONSOLAÇÃO            0             0         0           0   \n",
      "71533   81  SANTO ANTÔNIO            0             0         0           0   \n",
      "72362    7     TABUAZEIRO            0             0         0           0   \n",
      "\n",
      "       Handcap  SMS_received No-show  appoint_interval  \n",
      "27033        1             0     Yes              -1.0  \n",
      "55226        1             0     Yes              -1.0  \n",
      "64175        0             0     Yes              -1.0  \n",
      "71533        0             0     Yes              -6.0  \n",
      "72362        0             0     Yes              -1.0  \n",
      "          PatientId  AppointmentID Gender        ScheduledDay AppointmentDay  \\\n",
      "99832  4.659432e+14        5775010      F 2016-06-06 08:58:13     2016-06-06   \n",
      "\n",
      "       Age Neighbourhood  Scholarship  Hipertension  Diabetes  Alcoholism  \\\n",
      "99832   -1         ROMÃO            0             0         0           0   \n",
      "\n",
      "       Handcap  SMS_received No-show  appoint_interval  \n",
      "99832        0             0      No               0.0  \n"
     ]
    }
   ],
   "source": [
    "print(df[df['appoint_interval']<0])\n",
    "print(df[df['Age']<0])"
   ]
  },
  {
   "cell_type": "code",
   "execution_count": 6,
   "metadata": {
    "collapsed": true
   },
   "outputs": [],
   "source": [
    "df.drop(df.index[[27033,55226,64175,71533,72362,99832]],inplace=True)"
   ]
  },
  {
   "cell_type": "code",
   "execution_count": 7,
   "metadata": {},
   "outputs": [
    {
     "data": {
      "text/html": [
       "<div>\n",
       "<style>\n",
       "    .dataframe thead tr:only-child th {\n",
       "        text-align: right;\n",
       "    }\n",
       "\n",
       "    .dataframe thead th {\n",
       "        text-align: left;\n",
       "    }\n",
       "\n",
       "    .dataframe tbody tr th {\n",
       "        vertical-align: top;\n",
       "    }\n",
       "</style>\n",
       "<table border=\"1\" class=\"dataframe\">\n",
       "  <thead>\n",
       "    <tr style=\"text-align: right;\">\n",
       "      <th></th>\n",
       "      <th>PatientId</th>\n",
       "      <th>AppointmentID</th>\n",
       "      <th>Age</th>\n",
       "      <th>Scholarship</th>\n",
       "      <th>Hipertension</th>\n",
       "      <th>Diabetes</th>\n",
       "      <th>Alcoholism</th>\n",
       "      <th>Handcap</th>\n",
       "      <th>SMS_received</th>\n",
       "      <th>appoint_interval</th>\n",
       "    </tr>\n",
       "  </thead>\n",
       "  <tbody>\n",
       "    <tr>\n",
       "      <th>count</th>\n",
       "      <td>1.105210e+05</td>\n",
       "      <td>1.105210e+05</td>\n",
       "      <td>110521.000000</td>\n",
       "      <td>110521.000000</td>\n",
       "      <td>110521.000000</td>\n",
       "      <td>110521.000000</td>\n",
       "      <td>110521.000000</td>\n",
       "      <td>110521.000000</td>\n",
       "      <td>110521.000000</td>\n",
       "      <td>110521.000000</td>\n",
       "    </tr>\n",
       "    <tr>\n",
       "      <th>mean</th>\n",
       "      <td>1.474906e+14</td>\n",
       "      <td>5.675304e+06</td>\n",
       "      <td>37.089386</td>\n",
       "      <td>0.098271</td>\n",
       "      <td>0.197257</td>\n",
       "      <td>0.071869</td>\n",
       "      <td>0.030401</td>\n",
       "      <td>0.022231</td>\n",
       "      <td>0.321043</td>\n",
       "      <td>10.184345</td>\n",
       "    </tr>\n",
       "    <tr>\n",
       "      <th>std</th>\n",
       "      <td>2.560860e+14</td>\n",
       "      <td>7.129691e+04</td>\n",
       "      <td>23.109885</td>\n",
       "      <td>0.297682</td>\n",
       "      <td>0.397929</td>\n",
       "      <td>0.258272</td>\n",
       "      <td>0.171690</td>\n",
       "      <td>0.161494</td>\n",
       "      <td>0.466879</td>\n",
       "      <td>15.255153</td>\n",
       "    </tr>\n",
       "    <tr>\n",
       "      <th>min</th>\n",
       "      <td>3.921784e+04</td>\n",
       "      <td>5.030230e+06</td>\n",
       "      <td>0.000000</td>\n",
       "      <td>0.000000</td>\n",
       "      <td>0.000000</td>\n",
       "      <td>0.000000</td>\n",
       "      <td>0.000000</td>\n",
       "      <td>0.000000</td>\n",
       "      <td>0.000000</td>\n",
       "      <td>0.000000</td>\n",
       "    </tr>\n",
       "    <tr>\n",
       "      <th>25%</th>\n",
       "      <td>4.172457e+12</td>\n",
       "      <td>5.640284e+06</td>\n",
       "      <td>18.000000</td>\n",
       "      <td>0.000000</td>\n",
       "      <td>0.000000</td>\n",
       "      <td>0.000000</td>\n",
       "      <td>0.000000</td>\n",
       "      <td>0.000000</td>\n",
       "      <td>0.000000</td>\n",
       "      <td>0.000000</td>\n",
       "    </tr>\n",
       "    <tr>\n",
       "      <th>50%</th>\n",
       "      <td>3.173185e+13</td>\n",
       "      <td>5.680573e+06</td>\n",
       "      <td>37.000000</td>\n",
       "      <td>0.000000</td>\n",
       "      <td>0.000000</td>\n",
       "      <td>0.000000</td>\n",
       "      <td>0.000000</td>\n",
       "      <td>0.000000</td>\n",
       "      <td>0.000000</td>\n",
       "      <td>4.000000</td>\n",
       "    </tr>\n",
       "    <tr>\n",
       "      <th>75%</th>\n",
       "      <td>9.438963e+13</td>\n",
       "      <td>5.725524e+06</td>\n",
       "      <td>55.000000</td>\n",
       "      <td>0.000000</td>\n",
       "      <td>0.000000</td>\n",
       "      <td>0.000000</td>\n",
       "      <td>0.000000</td>\n",
       "      <td>0.000000</td>\n",
       "      <td>1.000000</td>\n",
       "      <td>15.000000</td>\n",
       "    </tr>\n",
       "    <tr>\n",
       "      <th>max</th>\n",
       "      <td>9.999816e+14</td>\n",
       "      <td>5.790484e+06</td>\n",
       "      <td>115.000000</td>\n",
       "      <td>1.000000</td>\n",
       "      <td>1.000000</td>\n",
       "      <td>1.000000</td>\n",
       "      <td>1.000000</td>\n",
       "      <td>4.000000</td>\n",
       "      <td>1.000000</td>\n",
       "      <td>179.000000</td>\n",
       "    </tr>\n",
       "  </tbody>\n",
       "</table>\n",
       "</div>"
      ],
      "text/plain": [
       "          PatientId  AppointmentID            Age    Scholarship  \\\n",
       "count  1.105210e+05   1.105210e+05  110521.000000  110521.000000   \n",
       "mean   1.474906e+14   5.675304e+06      37.089386       0.098271   \n",
       "std    2.560860e+14   7.129691e+04      23.109885       0.297682   \n",
       "min    3.921784e+04   5.030230e+06       0.000000       0.000000   \n",
       "25%    4.172457e+12   5.640284e+06      18.000000       0.000000   \n",
       "50%    3.173185e+13   5.680573e+06      37.000000       0.000000   \n",
       "75%    9.438963e+13   5.725524e+06      55.000000       0.000000   \n",
       "max    9.999816e+14   5.790484e+06     115.000000       1.000000   \n",
       "\n",
       "        Hipertension       Diabetes     Alcoholism        Handcap  \\\n",
       "count  110521.000000  110521.000000  110521.000000  110521.000000   \n",
       "mean        0.197257       0.071869       0.030401       0.022231   \n",
       "std         0.397929       0.258272       0.171690       0.161494   \n",
       "min         0.000000       0.000000       0.000000       0.000000   \n",
       "25%         0.000000       0.000000       0.000000       0.000000   \n",
       "50%         0.000000       0.000000       0.000000       0.000000   \n",
       "75%         0.000000       0.000000       0.000000       0.000000   \n",
       "max         1.000000       1.000000       1.000000       4.000000   \n",
       "\n",
       "        SMS_received  appoint_interval  \n",
       "count  110521.000000     110521.000000  \n",
       "mean        0.321043         10.184345  \n",
       "std         0.466879         15.255153  \n",
       "min         0.000000          0.000000  \n",
       "25%         0.000000          0.000000  \n",
       "50%         0.000000          4.000000  \n",
       "75%         1.000000         15.000000  \n",
       "max         1.000000        179.000000  "
      ]
     },
     "execution_count": 7,
     "metadata": {},
     "output_type": "execute_result"
    }
   ],
   "source": [
    "df.describe()"
   ]
  },
  {
   "cell_type": "markdown",
   "metadata": {},
   "source": [
    "> Converting the coloums into suitable datatypes for exploration"
   ]
  },
  {
   "cell_type": "code",
   "execution_count": 8,
   "metadata": {
    "collapsed": true
   },
   "outputs": [],
   "source": [
    "df['Handcap']=df['Handcap'].astype(bool)\n",
    "df['Scholarship']=df['Scholarship'].astype(bool)\n",
    "df['Hipertension']=df['Hipertension'].astype(bool)\n",
    "df['Diabetes']=df['Diabetes'].astype(bool)\n",
    "df['Alcoholism']=df['Alcoholism'].astype(bool)\n",
    "df['SMS_received']=df['SMS_received'].astype(bool)\n",
    "df['sch_day']=df['ScheduledDay'].dt.dayofweek\n",
    "df['app_day']=df['AppointmentDay'].dt.dayofweek"
   ]
  },
  {
   "cell_type": "markdown",
   "metadata": {},
   "source": [
    "<a id='explore'></a>\n",
    "### Exploration"
   ]
  },
  {
   "cell_type": "markdown",
   "metadata": {},
   "source": [
    ">**variable details** <br>\n",
    "**same_day:** entries where scheduled date is same as appointment date<br>\n",
    "**within_week:** entries where interval between scheduled date and appointment date is less than a week but not same day<br>\n",
    "**within_fortnite:** entries where interval is more than 7 day, but less than 1 days<br>\n",
    "**within_month:** entries where intervals is more than 16 day, but less than 31 days<br>\n",
    "**morethan_month:** entries where intervals is more than 30 days<br>\n",
    "\n",
    ">temp, temp1 and temp2 are temporary variables which were used to provide upper limit to specify above variables\n"
   ]
  },
  {
   "cell_type": "markdown",
   "metadata": {},
   "source": [
    "> **Question1 analysis**<br>\n",
    ">Here we analyse the % No-shows for above variables and the impact of SMS_received\n"
   ]
  },
  {
   "cell_type": "code",
   "execution_count": 9,
   "metadata": {
    "collapsed": true
   },
   "outputs": [],
   "source": [
    "same_day=df[df['appoint_interval']==0]\n",
    "temp=df[df['appoint_interval']<8]\n",
    "temp1=df[df['appoint_interval']<16]\n",
    "temp2=df[df['appoint_interval']<31]\n",
    "within_week=temp[temp['appoint_interval']>0]\n",
    "within_fortnite=temp1[temp1['appoint_interval']>7]\n",
    "within_month=temp2[temp2['appoint_interval']>15]\n",
    "morethan_month=df[df['appoint_interval']>30]\n"
   ]
  },
  {
   "cell_type": "code",
   "execution_count": 10,
   "metadata": {
    "collapsed": true
   },
   "outputs": [],
   "source": [
    "def noshow(data):\n",
    "    no_show=data[data['No-show']=='Yes']\n",
    "    len_noshow=len(no_show)\n",
    "    percent=(len_noshow/len(data))*100\n",
    "    return percent\n",
    "def sms_noshow(data):\n",
    "    sms=data[data['SMS_received']==True]\n",
    "    no_show=sms[sms['No-show']=='Yes']\n",
    "    percent=(len(no_show)/len(data))*100\n",
    "    return percent\n",
    "def nosms_noshow(data):\n",
    "    sms=data[data['SMS_received']==False]\n",
    "    no_show=sms[sms['No-show']=='Yes']\n",
    "    percent=(len(no_show)/len(data))*100\n",
    "    return percent\n",
    "def nosms_show(data):\n",
    "    sms=data[data['SMS_received']==False]\n",
    "    no_show=sms[sms['No-show']=='No']\n",
    "    percent=(len(no_show)/len(data))*100\n",
    "    return percent\n",
    "def sms_show(data):\n",
    "    sms=data[data['SMS_received']==True]\n",
    "    no_show=sms[sms['No-show']=='No']\n",
    "    percent=(len(no_show)/len(data))*100\n",
    "    return percent\n",
    "def sms_sent(data):\n",
    "    sms=data[data['SMS_received']==True]\n",
    "    return (len(sms)/len(data))*100\n",
    "   "
   ]
  },
  {
   "cell_type": "code",
   "execution_count": 11,
   "metadata": {
    "collapsed": true
   },
   "outputs": [],
   "source": [
    "dframe=pd.DataFrame(\n",
    "    data={'same day':[sms_sent(same_day),noshow(same_day),sms_show(same_day),sms_noshow(same_day),nosms_noshow(same_day),nosms_show(same_day)],\n",
    "     'within week':[sms_sent(within_week),noshow(within_week),sms_show(within_week),sms_noshow(within_week),nosms_noshow(within_week),nosms_show(within_week)],\n",
    "     'within fortnite':[sms_sent(within_fortnite),noshow(within_fortnite),sms_show(within_fortnite),sms_noshow(within_fortnite),nosms_noshow(within_fortnite),nosms_show(within_fortnite)],\n",
    "     'within month':[sms_sent(within_month),noshow(within_month),sms_show(within_month),sms_noshow(within_month),nosms_noshow(within_month),nosms_show(within_month)],\n",
    "     'morethan month':[sms_sent(morethan_month),noshow(morethan_month),sms_show(morethan_month),sms_noshow(morethan_month),nosms_noshow(morethan_month),nosms_show(morethan_month)]},\n",
    "    index=['%sms sent','%noshow','%sms+show','%sms+noshow','%nosms+noshow','%nosms+show']\n",
    ")"
   ]
  },
  {
   "cell_type": "markdown",
   "metadata": {},
   "source": [
    ">**Index Values**<br>\n",
    "**%sms sent**: the percent values for sent sent for the coloumns<br>\n",
    "**% noshow**: the percent values of No-shows for the coloumns<br>\n",
    "**%sms + show**: the percent values where sms is sent and the patients showed up for appointments<br>\n",
    "**%sms +noshow**: the percent values where sms is sent but patients were No-shows<br>\n",
    "**%nosms+noshow** the percent values where no sms were sent and patients didnt show up<br>\n",
    "**%nosms+show**  the percent values where no sms was sent but patients sowed up for appointment<br>"
   ]
  },
  {
   "cell_type": "code",
   "execution_count": 12,
   "metadata": {
    "collapsed": true
   },
   "outputs": [],
   "source": [
    "dframe=dframe[['same day','within week','within fortnite','within month','morethan month']] #arranging the dataframe\n"
   ]
  },
  {
   "cell_type": "code",
   "execution_count": 42,
   "metadata": {},
   "outputs": [
    {
     "data": {
      "text/html": [
       "<div>\n",
       "<style>\n",
       "    .dataframe thead tr:only-child th {\n",
       "        text-align: right;\n",
       "    }\n",
       "\n",
       "    .dataframe thead th {\n",
       "        text-align: left;\n",
       "    }\n",
       "\n",
       "    .dataframe tbody tr th {\n",
       "        vertical-align: top;\n",
       "    }\n",
       "</style>\n",
       "<table border=\"1\" class=\"dataframe\">\n",
       "  <thead>\n",
       "    <tr style=\"text-align: right;\">\n",
       "      <th></th>\n",
       "      <th>same day</th>\n",
       "      <th>within week</th>\n",
       "      <th>within fortnite</th>\n",
       "      <th>within month</th>\n",
       "      <th>morethan month</th>\n",
       "    </tr>\n",
       "  </thead>\n",
       "  <tbody>\n",
       "    <tr>\n",
       "      <th>%sms sent</th>\n",
       "      <td>0.000000</td>\n",
       "      <td>35.880068</td>\n",
       "      <td>58.596984</td>\n",
       "      <td>60.480212</td>\n",
       "      <td>61.765273</td>\n",
       "    </tr>\n",
       "    <tr>\n",
       "      <th>%noshow</th>\n",
       "      <td>4.647062</td>\n",
       "      <td>24.147895</td>\n",
       "      <td>30.795387</td>\n",
       "      <td>32.511974</td>\n",
       "      <td>33.002505</td>\n",
       "    </tr>\n",
       "    <tr>\n",
       "      <th>%sms+show</th>\n",
       "      <td>0.000000</td>\n",
       "      <td>27.354358</td>\n",
       "      <td>41.927853</td>\n",
       "      <td>42.525838</td>\n",
       "      <td>43.110426</td>\n",
       "    </tr>\n",
       "    <tr>\n",
       "      <th>%sms+noshow</th>\n",
       "      <td>0.000000</td>\n",
       "      <td>8.525711</td>\n",
       "      <td>16.669131</td>\n",
       "      <td>17.954374</td>\n",
       "      <td>18.654847</td>\n",
       "    </tr>\n",
       "    <tr>\n",
       "      <th>%nosms+noshow</th>\n",
       "      <td>4.647062</td>\n",
       "      <td>15.622184</td>\n",
       "      <td>14.126257</td>\n",
       "      <td>14.557600</td>\n",
       "      <td>14.347659</td>\n",
       "    </tr>\n",
       "    <tr>\n",
       "      <th>%nosms+show</th>\n",
       "      <td>95.352938</td>\n",
       "      <td>48.497747</td>\n",
       "      <td>27.276759</td>\n",
       "      <td>24.962188</td>\n",
       "      <td>23.887069</td>\n",
       "    </tr>\n",
       "  </tbody>\n",
       "</table>\n",
       "</div>"
      ],
      "text/plain": [
       "                same day  within week  within fortnite  within month  \\\n",
       "%sms sent       0.000000    35.880068        58.596984     60.480212   \n",
       "%noshow         4.647062    24.147895        30.795387     32.511974   \n",
       "%sms+show       0.000000    27.354358        41.927853     42.525838   \n",
       "%sms+noshow     0.000000     8.525711        16.669131     17.954374   \n",
       "%nosms+noshow   4.647062    15.622184        14.126257     14.557600   \n",
       "%nosms+show    95.352938    48.497747        27.276759     24.962188   \n",
       "\n",
       "               morethan month  \n",
       "%sms sent           61.765273  \n",
       "%noshow             33.002505  \n",
       "%sms+show           43.110426  \n",
       "%sms+noshow         18.654847  \n",
       "%nosms+noshow       14.347659  \n",
       "%nosms+show         23.887069  "
      ]
     },
     "execution_count": 42,
     "metadata": {},
     "output_type": "execute_result"
    }
   ],
   "source": [
    "dframe"
   ]
  },
  {
   "cell_type": "code",
   "execution_count": 13,
   "metadata": {},
   "outputs": [
    {
     "data": {
      "text/plain": [
       "<matplotlib.axes._subplots.AxesSubplot at 0x189593cc9e8>"
      ]
     },
     "execution_count": 13,
     "metadata": {},
     "output_type": "execute_result"
    },
    {
     "data": {
      "image/png": "[encoded data removed]",
      "text/plain": [
       "<matplotlib.figure.Figure at 0x1895aab2e48>"
      ]
     },
     "metadata": {},
     "output_type": "display_data"
    }
   ],
   "source": [
    "dframe.plot(kind='bar')"
   ]
  },
  {
   "cell_type": "markdown",
   "metadata": {},
   "source": [
    ">**Question2 analysis**<br>\n",
    "Here we analyse the busiest hospitals where more than **1000** appointments were made, top 5 Hospitals which has a mean for interval time and top 5 hospital with low mean interval time are considered here, and analyse their No-show percent and effect of SMS. And find the which days of the week are busiest."
   ]
  },
  {
   "cell_type": "code",
   "execution_count": 14,
   "metadata": {},
   "outputs": [],
   "source": [
    "neighbour=df.groupby('Neighbourhood')"
   ]
  },
  {
   "cell_type": "code",
   "execution_count": 15,
   "metadata": {},
   "outputs": [],
   "source": [
    "nei=neighbour.describe()"
   ]
  },
  {
   "cell_type": "code",
   "execution_count": 16,
   "metadata": {
    "collapsed": true
   },
   "outputs": [],
   "source": [
    "temp_x=nei['appoint_interval']"
   ]
  },
  {
   "cell_type": "code",
   "execution_count": 17,
   "metadata": {
    "collapsed": true
   },
   "outputs": [],
   "source": [
    "temp_y=temp_x[temp_x['count']>1000]"
   ]
  },
  {
   "cell_type": "code",
   "execution_count": 18,
   "metadata": {
    "collapsed": true
   },
   "outputs": [],
   "source": [
    "high_mean=temp_y.sort_values('mean',ascending=False)"
   ]
  },
  {
   "cell_type": "code",
   "execution_count": 19,
   "metadata": {
    "collapsed": true
   },
   "outputs": [],
   "source": [
    "low_mean=temp_y.sort_values('mean',ascending=True)"
   ]
  },
  {
   "cell_type": "code",
   "execution_count": 20,
   "metadata": {},
   "outputs": [
    {
     "data": {
      "text/html": [
       "<div>\n",
       "<style>\n",
       "    .dataframe thead tr:only-child th {\n",
       "        text-align: right;\n",
       "    }\n",
       "\n",
       "    .dataframe thead th {\n",
       "        text-align: left;\n",
       "    }\n",
       "\n",
       "    .dataframe tbody tr th {\n",
       "        vertical-align: top;\n",
       "    }\n",
       "</style>\n",
       "<table border=\"1\" class=\"dataframe\">\n",
       "  <thead>\n",
       "    <tr style=\"text-align: right;\">\n",
       "      <th></th>\n",
       "      <th>count</th>\n",
       "      <th>mean</th>\n",
       "      <th>std</th>\n",
       "      <th>min</th>\n",
       "      <th>25%</th>\n",
       "      <th>50%</th>\n",
       "      <th>75%</th>\n",
       "      <th>max</th>\n",
       "    </tr>\n",
       "    <tr>\n",
       "      <th>Neighbourhood</th>\n",
       "      <th></th>\n",
       "      <th></th>\n",
       "      <th></th>\n",
       "      <th></th>\n",
       "      <th></th>\n",
       "      <th></th>\n",
       "      <th></th>\n",
       "      <th></th>\n",
       "    </tr>\n",
       "  </thead>\n",
       "  <tbody>\n",
       "    <tr>\n",
       "      <th>JARDIM CAMBURI</th>\n",
       "      <td>7717.0</td>\n",
       "      <td>18.761306</td>\n",
       "      <td>26.516377</td>\n",
       "      <td>0.0</td>\n",
       "      <td>0.0</td>\n",
       "      <td>4.0</td>\n",
       "      <td>36.0</td>\n",
       "      <td>112.0</td>\n",
       "    </tr>\n",
       "    <tr>\n",
       "      <th>MARUÍPE</th>\n",
       "      <td>1902.0</td>\n",
       "      <td>16.430074</td>\n",
       "      <td>27.213828</td>\n",
       "      <td>0.0</td>\n",
       "      <td>0.0</td>\n",
       "      <td>6.0</td>\n",
       "      <td>23.0</td>\n",
       "      <td>179.0</td>\n",
       "    </tr>\n",
       "    <tr>\n",
       "      <th>MARIA ORTIZ</th>\n",
       "      <td>5805.0</td>\n",
       "      <td>13.367442</td>\n",
       "      <td>14.895948</td>\n",
       "      <td>0.0</td>\n",
       "      <td>0.0</td>\n",
       "      <td>5.0</td>\n",
       "      <td>30.0</td>\n",
       "      <td>102.0</td>\n",
       "    </tr>\n",
       "    <tr>\n",
       "      <th>ILHA DE SANTA MARIA</th>\n",
       "      <td>1885.0</td>\n",
       "      <td>12.991512</td>\n",
       "      <td>17.108959</td>\n",
       "      <td>0.0</td>\n",
       "      <td>0.0</td>\n",
       "      <td>6.0</td>\n",
       "      <td>26.0</td>\n",
       "      <td>108.0</td>\n",
       "    </tr>\n",
       "    <tr>\n",
       "      <th>JOANA D´ARC</th>\n",
       "      <td>1427.0</td>\n",
       "      <td>12.925018</td>\n",
       "      <td>17.780274</td>\n",
       "      <td>0.0</td>\n",
       "      <td>0.0</td>\n",
       "      <td>3.0</td>\n",
       "      <td>23.0</td>\n",
       "      <td>91.0</td>\n",
       "    </tr>\n",
       "  </tbody>\n",
       "</table>\n",
       "</div>"
      ],
      "text/plain": [
       "                      count       mean        std  min  25%  50%   75%    max\n",
       "Neighbourhood                                                                \n",
       "JARDIM CAMBURI       7717.0  18.761306  26.516377  0.0  0.0  4.0  36.0  112.0\n",
       "MARUÍPE              1902.0  16.430074  27.213828  0.0  0.0  6.0  23.0  179.0\n",
       "MARIA ORTIZ          5805.0  13.367442  14.895948  0.0  0.0  5.0  30.0  102.0\n",
       "ILHA DE SANTA MARIA  1885.0  12.991512  17.108959  0.0  0.0  6.0  26.0  108.0\n",
       "JOANA D´ARC          1427.0  12.925018  17.780274  0.0  0.0  3.0  23.0   91.0"
      ]
     },
     "execution_count": 20,
     "metadata": {},
     "output_type": "execute_result"
    }
   ],
   "source": [
    "high_mean.head()"
   ]
  },
  {
   "cell_type": "code",
   "execution_count": 21,
   "metadata": {},
   "outputs": [
    {
     "data": {
      "text/html": [
       "<div>\n",
       "<style>\n",
       "    .dataframe thead tr:only-child th {\n",
       "        text-align: right;\n",
       "    }\n",
       "\n",
       "    .dataframe thead th {\n",
       "        text-align: left;\n",
       "    }\n",
       "\n",
       "    .dataframe tbody tr th {\n",
       "        vertical-align: top;\n",
       "    }\n",
       "</style>\n",
       "<table border=\"1\" class=\"dataframe\">\n",
       "  <thead>\n",
       "    <tr style=\"text-align: right;\">\n",
       "      <th></th>\n",
       "      <th>count</th>\n",
       "      <th>mean</th>\n",
       "      <th>std</th>\n",
       "      <th>min</th>\n",
       "      <th>25%</th>\n",
       "      <th>50%</th>\n",
       "      <th>75%</th>\n",
       "      <th>max</th>\n",
       "    </tr>\n",
       "    <tr>\n",
       "      <th>Neighbourhood</th>\n",
       "      <th></th>\n",
       "      <th></th>\n",
       "      <th></th>\n",
       "      <th></th>\n",
       "      <th></th>\n",
       "      <th></th>\n",
       "      <th></th>\n",
       "      <th></th>\n",
       "    </tr>\n",
       "  </thead>\n",
       "  <tbody>\n",
       "    <tr>\n",
       "      <th>NOVA PALESTINA</th>\n",
       "      <td>2264.0</td>\n",
       "      <td>4.745583</td>\n",
       "      <td>8.310838</td>\n",
       "      <td>0.0</td>\n",
       "      <td>0.0</td>\n",
       "      <td>1.0</td>\n",
       "      <td>7.0</td>\n",
       "      <td>88.0</td>\n",
       "    </tr>\n",
       "    <tr>\n",
       "      <th>ILHA DAS CAIEIRAS</th>\n",
       "      <td>1071.0</td>\n",
       "      <td>5.031746</td>\n",
       "      <td>6.411797</td>\n",
       "      <td>0.0</td>\n",
       "      <td>0.0</td>\n",
       "      <td>4.0</td>\n",
       "      <td>7.0</td>\n",
       "      <td>66.0</td>\n",
       "    </tr>\n",
       "    <tr>\n",
       "      <th>SÃO PEDRO</th>\n",
       "      <td>2448.0</td>\n",
       "      <td>5.411765</td>\n",
       "      <td>8.663131</td>\n",
       "      <td>0.0</td>\n",
       "      <td>0.0</td>\n",
       "      <td>3.0</td>\n",
       "      <td>7.0</td>\n",
       "      <td>95.0</td>\n",
       "    </tr>\n",
       "    <tr>\n",
       "      <th>ILHA DO PRÍNCIPE</th>\n",
       "      <td>2266.0</td>\n",
       "      <td>5.695940</td>\n",
       "      <td>6.453006</td>\n",
       "      <td>0.0</td>\n",
       "      <td>0.0</td>\n",
       "      <td>6.0</td>\n",
       "      <td>9.0</td>\n",
       "      <td>105.0</td>\n",
       "    </tr>\n",
       "    <tr>\n",
       "      <th>GURIGICA</th>\n",
       "      <td>2018.0</td>\n",
       "      <td>6.166006</td>\n",
       "      <td>9.431521</td>\n",
       "      <td>0.0</td>\n",
       "      <td>0.0</td>\n",
       "      <td>2.0</td>\n",
       "      <td>9.0</td>\n",
       "      <td>109.0</td>\n",
       "    </tr>\n",
       "  </tbody>\n",
       "</table>\n",
       "</div>"
      ],
      "text/plain": [
       "                    count      mean       std  min  25%  50%  75%    max\n",
       "Neighbourhood                                                           \n",
       "NOVA PALESTINA     2264.0  4.745583  8.310838  0.0  0.0  1.0  7.0   88.0\n",
       "ILHA DAS CAIEIRAS  1071.0  5.031746  6.411797  0.0  0.0  4.0  7.0   66.0\n",
       "SÃO PEDRO          2448.0  5.411765  8.663131  0.0  0.0  3.0  7.0   95.0\n",
       "ILHA DO PRÍNCIPE   2266.0  5.695940  6.453006  0.0  0.0  6.0  9.0  105.0\n",
       "GURIGICA           2018.0  6.166006  9.431521  0.0  0.0  2.0  9.0  109.0"
      ]
     },
     "execution_count": 21,
     "metadata": {},
     "output_type": "execute_result"
    }
   ],
   "source": [
    "low_mean.head()"
   ]
  },
  {
   "cell_type": "code",
   "execution_count": 22,
   "metadata": {
    "collapsed": true
   },
   "outputs": [],
   "source": [
    "jardim_camburi=df[df['Neighbourhood']=='JARDIM CAMBURI']\n",
    "maria_ortiz=df[df['Neighbourhood']=='MARIA ORTIZ']\n",
    "resistencia=df[df['Neighbourhood']=='RESISTÊNCIA']\n",
    "jardim_da_penha=df[df['Neighbourhood']=='RESISTÊNCIA']\n",
    "itarare=df[df['Neighbourhood']=='ITARARÉ']\n"
   ]
  },
  {
   "cell_type": "code",
   "execution_count": 23,
   "metadata": {
    "collapsed": true
   },
   "outputs": [],
   "source": [
    "nova_palestina=df[df['Neighbourhood']=='NOVA PALESTINA']\n",
    "ilha_das_caieiras=df[df['Neighbourhood']=='ILHA DAS CAIEIRAS']\n",
    "sao_pedro=df[df['Neighbourhood']=='SÃO PEDRO']\n",
    "ilha_do_principe=df[df['Neighbourhood']=='ILHA DO PRÍNCIPE']\n",
    "gurigica=df[df['Neighbourhood']=='GURIGICA']\n"
   ]
  },
  {
   "cell_type": "code",
   "execution_count": 24,
   "metadata": {
    "collapsed": true
   },
   "outputs": [],
   "source": [
    "high_mean_interval=pd.DataFrame(\n",
    "    data={'jardim_camburi':[sms_sent(jardim_camburi),noshow(jardim_camburi),sms_show(jardim_camburi),sms_noshow(jardim_camburi),nosms_noshow(jardim_camburi),nosms_show(jardim_camburi)],\n",
    "     'maria_ortiz':[sms_sent(maria_ortiz),noshow(maria_ortiz),sms_show(maria_ortiz),sms_noshow(maria_ortiz),nosms_noshow(maria_ortiz),nosms_show(maria_ortiz)],\n",
    "     'resistencia':[sms_sent(resistencia),noshow(resistencia),sms_show(resistencia),sms_noshow(resistencia),nosms_noshow(resistencia),nosms_show(resistencia)],\n",
    "     'jardim_da_penha':[sms_sent(jardim_da_penha),noshow(jardim_da_penha),sms_show(jardim_da_penha),sms_noshow(jardim_da_penha),nosms_noshow(jardim_da_penha),nosms_show(jardim_da_penha)],\n",
    "     'itarare':[sms_sent(itarare),noshow(itarare),sms_show(itarare),sms_noshow(itarare),nosms_noshow(itarare),nosms_show(itarare)]},\n",
    "    index=['%sms sent','%noshow','%sms+show','%sms+noshow','%nosms+noshow','%nosms+show']\n",
    ")"
   ]
  },
  {
   "cell_type": "code",
   "execution_count": 25,
   "metadata": {
    "collapsed": true
   },
   "outputs": [],
   "source": [
    "low_mean_interval=pd.DataFrame(\n",
    "    data={'nova_palestina':[sms_sent(nova_palestina),noshow(nova_palestina),sms_show(nova_palestina),sms_noshow(nova_palestina),nosms_noshow(nova_palestina),nosms_show(nova_palestina)],\n",
    "     'ilha_das_caieiras':[sms_sent(ilha_das_caieiras),noshow(ilha_das_caieiras),sms_show(ilha_das_caieiras),sms_noshow(ilha_das_caieiras),nosms_noshow(ilha_das_caieiras),nosms_show(ilha_das_caieiras)],\n",
    "     'sao_pedro':[sms_sent(sao_pedro),noshow(sao_pedro),sms_show(sao_pedro),sms_noshow(sao_pedro),nosms_noshow(sao_pedro),nosms_show(sao_pedro)],\n",
    "     'ilha_do_principe':[sms_sent(ilha_do_principe),noshow(ilha_do_principe),sms_show(ilha_do_principe),sms_noshow(ilha_do_principe),nosms_noshow(ilha_do_principe),nosms_show(ilha_do_principe)],\n",
    "     'gurigica':[sms_sent(gurigica),noshow(gurigica),sms_show(gurigica),sms_noshow(gurigica),nosms_noshow(gurigica),nosms_show(gurigica)]},\n",
    "    index=['%sms sent','%noshow','%sms+show','%sms+noshow','%nosms+noshow','%nosms+show']\n",
    ")"
   ]
  },
  {
   "cell_type": "code",
   "execution_count": 26,
   "metadata": {
    "collapsed": true
   },
   "outputs": [],
   "source": [
    "l_sms=low_mean_interval.iloc[0].mean()\n",
    "l_noshow=low_mean_interval.iloc[1].mean()\n",
    "l_sms_show=low_mean_interval.iloc[2].mean()\n",
    "l_sms_noshow=low_mean_interval.iloc[3].mean()\n",
    "l_nosms_noshow=low_mean_interval.iloc[4].mean()\n",
    "l_nosms_show=low_mean_interval.iloc[5].mean()"
   ]
  },
  {
   "cell_type": "code",
   "execution_count": 27,
   "metadata": {
    "collapsed": true
   },
   "outputs": [],
   "source": [
    "h_sms=high_mean_interval.iloc[0].mean()\n",
    "h_noshow=high_mean_interval.iloc[1].mean()\n",
    "h_sms_show=high_mean_interval.iloc[2].mean()\n",
    "h_sms_noshow=high_mean_interval.iloc[3].mean()\n",
    "h_nosms_noshow=high_mean_interval.iloc[4].mean()\n",
    "h_nosms_show=high_mean_interval.iloc[5].mean()"
   ]
  },
  {
   "cell_type": "code",
   "execution_count": 28,
   "metadata": {
    "collapsed": true
   },
   "outputs": [],
   "source": [
    "pframe=pd.DataFrame(\n",
    "data={'high_interval':[h_sms,h_noshow,h_sms_show,h_sms_noshow,h_nosms_noshow,h_nosms_show],\n",
    "      'low_interval':[l_sms,l_noshow,l_sms_show,l_sms_noshow,l_nosms_noshow,l_nosms_show]\n",
    "    \n",
    "},\n",
    "index=['sms_sent','%noshow','sms+show','sms+noshow','nosms+noshow','nosms+show'])"
   ]
  },
  {
   "cell_type": "code",
   "execution_count": 29,
   "metadata": {},
   "outputs": [
    {
     "data": {
      "text/html": [
       "<div>\n",
       "<style>\n",
       "    .dataframe thead tr:only-child th {\n",
       "        text-align: right;\n",
       "    }\n",
       "\n",
       "    .dataframe thead th {\n",
       "        text-align: left;\n",
       "    }\n",
       "\n",
       "    .dataframe tbody tr th {\n",
       "        vertical-align: top;\n",
       "    }\n",
       "</style>\n",
       "<table border=\"1\" class=\"dataframe\">\n",
       "  <thead>\n",
       "    <tr style=\"text-align: right;\">\n",
       "      <th></th>\n",
       "      <th>high_interval</th>\n",
       "      <th>low_interval</th>\n",
       "    </tr>\n",
       "  </thead>\n",
       "  <tbody>\n",
       "    <tr>\n",
       "      <th>sms_sent</th>\n",
       "      <td>34.034210</td>\n",
       "      <td>28.929559</td>\n",
       "    </tr>\n",
       "    <tr>\n",
       "      <th>%noshow</th>\n",
       "      <td>21.421470</td>\n",
       "      <td>21.362000</td>\n",
       "    </tr>\n",
       "    <tr>\n",
       "      <th>sms+show</th>\n",
       "      <td>23.721463</td>\n",
       "      <td>19.967631</td>\n",
       "    </tr>\n",
       "    <tr>\n",
       "      <th>sms+noshow</th>\n",
       "      <td>10.312747</td>\n",
       "      <td>8.961928</td>\n",
       "    </tr>\n",
       "    <tr>\n",
       "      <th>nosms+noshow</th>\n",
       "      <td>11.108723</td>\n",
       "      <td>12.400071</td>\n",
       "    </tr>\n",
       "    <tr>\n",
       "      <th>nosms+show</th>\n",
       "      <td>54.857067</td>\n",
       "      <td>58.670370</td>\n",
       "    </tr>\n",
       "  </tbody>\n",
       "</table>\n",
       "</div>"
      ],
      "text/plain": [
       "              high_interval  low_interval\n",
       "sms_sent          34.034210     28.929559\n",
       "%noshow           21.421470     21.362000\n",
       "sms+show          23.721463     19.967631\n",
       "sms+noshow        10.312747      8.961928\n",
       "nosms+noshow      11.108723     12.400071\n",
       "nosms+show        54.857067     58.670370"
      ]
     },
     "execution_count": 29,
     "metadata": {},
     "output_type": "execute_result"
    }
   ],
   "source": [
    "pframe"
   ]
  },
  {
   "cell_type": "code",
   "execution_count": 30,
   "metadata": {},
   "outputs": [
    {
     "data": {
      "text/plain": [
       "<matplotlib.axes._subplots.AxesSubplot at 0x1895a247550>"
      ]
     },
     "execution_count": 30,
     "metadata": {},
     "output_type": "execute_result"
    },
    {
     "data": {
      "image/png": "[encoded data removed]",
      "text/plain": [
       "<matplotlib.figure.Figure at 0x1895a246748>"
      ]
     },
     "metadata": {},
     "output_type": "display_data"
    }
   ],
   "source": [
    "pframe.plot(kind='bar')"
   ]
  },
  {
   "cell_type": "code",
   "execution_count": 31,
   "metadata": {
    "collapsed": true
   },
   "outputs": [],
   "source": [
    "high=[jardim_camburi,maria_ortiz,resistencia,jardim_da_penha,itarare]"
   ]
  },
  {
   "cell_type": "code",
   "execution_count": 32,
   "metadata": {
    "collapsed": true
   },
   "outputs": [],
   "source": [
    "low=[nova_palestina,ilha_das_caieiras,sao_pedro,ilha_do_principe,gurigica]"
   ]
  },
  {
   "cell_type": "code",
   "execution_count": 33,
   "metadata": {},
   "outputs": [],
   "source": [
    "hig=pd.concat(high)"
   ]
  },
  {
   "cell_type": "code",
   "execution_count": 34,
   "metadata": {},
   "outputs": [],
   "source": [
    "lo=pd.concat(low)"
   ]
  },
  {
   "cell_type": "code",
   "execution_count": null,
   "metadata": {},
   "outputs": [],
   "source": []
  },
  {
   "cell_type": "code",
   "execution_count": 38,
   "metadata": {},
   "outputs": [
    {
     "data": {
      "text/plain": [
       "<matplotlib.axes._subplots.AxesSubplot at 0x1895bc19128>"
      ]
     },
     "execution_count": 38,
     "metadata": {},
     "output_type": "execute_result"
    },
    {
     "data": {
      "image/png": "[encoded data removed]",
      "text/plain": [
       "<matplotlib.figure.Figure at 0x1895bc77eb8>"
      ]
     },
     "metadata": {},
     "output_type": "display_data"
    }
   ],
   "source": [
    "hig.app_day.plot(kind='hist')"
   ]
  },
  {
   "cell_type": "code",
   "execution_count": 39,
   "metadata": {},
   "outputs": [
    {
     "data": {
      "text/plain": [
       "<matplotlib.axes._subplots.AxesSubplot at 0x1895fbe0fd0>"
      ]
     },
     "execution_count": 39,
     "metadata": {},
     "output_type": "execute_result"
    },
    {
     "data": {
      "image/png": "[encoded data removed]",
      "text/plain": [
       "<matplotlib.figure.Figure at 0x1895a243978>"
      ]
     },
     "metadata": {},
     "output_type": "display_data"
    }
   ],
   "source": [
    "lo.app_day.plot(kind='hist')"
   ]
  },
  {
   "cell_type": "code",
   "execution_count": 40,
   "metadata": {},
   "outputs": [
    {
     "data": {
      "text/plain": [
       "<matplotlib.axes._subplots.AxesSubplot at 0x1895dfaed68>"
      ]
     },
     "execution_count": 40,
     "metadata": {},
     "output_type": "execute_result"
    },
    {
     "data": {
      "image/png": "[encoded data removed]",
      "text/plain": [
       "<matplotlib.figure.Figure at 0x1895fb0cc88>"
      ]
     },
     "metadata": {},
     "output_type": "display_data"
    }
   ],
   "source": [
    "df.app_day.plot(kind='hist')"
   ]
  },
  {
   "cell_type": "markdown",
   "metadata": {},
   "source": [
    "<a id='conclusion'></a>\n",
    "### Conclusion\n",
    "\n"
   ]
  },
  {
   "cell_type": "code",
   "execution_count": 41,
   "metadata": {},
   "outputs": [
    {
     "data": {
      "text/plain": [
       "<matplotlib.axes._subplots.AxesSubplot at 0x189601a5b38>"
      ]
     },
     "execution_count": 41,
     "metadata": {},
     "output_type": "execute_result"
    },
    {
     "data": {
      "image/png": "[encoded data removed]",
      "text/plain": [
       "<matplotlib.figure.Figure at 0x1895ffeafd0>"
      ]
     },
     "metadata": {},
     "output_type": "display_data"
    }
   ],
   "source": [
    "dframe.plot(kind='bar')"
   ]
  },
  {
   "cell_type": "markdown",
   "metadata": {
    "collapsed": true
   },
   "source": [
    ">**Question 1** From the above plot the following can be concluded<br>\n",
    ">1. Appointments scheduled on the same day are most likely to show up as they have 95.35% show up percent, this can be slightly improved but sending out SMS to patients, but there may not be a considerable difference because there is a considerable (10-20%) noshows in other intervals where sms is sent and yet patients didn't show up.\n",
    "\n",
    ">2. It can be seen that no show % increase as interval increases and nosms+show % desreases as interval increases, but there is not much increase in sms sent percent in categories within fortnite, within month and morethan month. So more sms should be sent to anyone who is scheduling appointment after the same day.\n"
   ]
  },
  {
   "cell_type": "code",
   "execution_count": 43,
   "metadata": {},
   "outputs": [
    {
     "data": {
      "text/plain": [
       "<matplotlib.axes._subplots.AxesSubplot at 0x1895fa4c5c0>"
      ]
     },
     "execution_count": 43,
     "metadata": {},
     "output_type": "execute_result"
    },
    {
     "data": {
      "image/png": "[encoded data removed]",
      "text/plain": [
       "<matplotlib.figure.Figure at 0x189615ac160>"
      ]
     },
     "metadata": {},
     "output_type": "display_data"
    }
   ],
   "source": [
    "pframe.plot(kind='bar')"
   ]
  },
  {
   "cell_type": "markdown",
   "metadata": {},
   "source": [
    ">**Question 2** from the above plot it can be concluded that:<br>\n",
    ">1. Hospitals with high appointment interval has almost same no show percent as hospitals with low appointment interval, therefore it is safe to say that length if interval has negligibe effect on %no show\n",
    ">2. nosms+show % were higher for both type of hospitals than sms_show %, therefore sending SMS may not be the perfect way to remind the patients about the appointments. Some other ways should be employed to remind patients of their appointments.\n"
   ]
  },
  {
   "cell_type": "markdown",
   "metadata": {},
   "source": [
    ">** Day of Week which are busiest**"
   ]
  },
  {
   "cell_type": "code",
   "execution_count": 46,
   "metadata": {},
   "outputs": [
    {
     "name": "stdout",
     "output_type": "stream",
     "text": [
      "Axes(0.125,0.125;0.775x0.755)\n"
     ]
    },
    {
     "data": {
      "image/png": "[encoded data removed]",
      "text/plain": [
       "<matplotlib.figure.Figure at 0x1895bcba550>"
      ]
     },
     "metadata": {},
     "output_type": "display_data"
    }
   ],
   "source": [
    "print(hig.app_day.plot(kind='hist'))  #hospitals with high interval gap between scheduled day and appointment day\n"
   ]
  },
  {
   "cell_type": "code",
   "execution_count": 47,
   "metadata": {},
   "outputs": [
    {
     "name": "stdout",
     "output_type": "stream",
     "text": [
      "Axes(0.125,0.125;0.775x0.755)\n"
     ]
    },
    {
     "data": {
      "image/png": "[encoded data removed]",
      "text/plain": [
       "<matplotlib.figure.Figure at 0x1895ffea828>"
      ]
     },
     "metadata": {},
     "output_type": "display_data"
    }
   ],
   "source": [
    "print(lo.app_day.plot(kind='hist'))   #hospitals with low interval gap between scheduled day and appointment day"
   ]
  },
  {
   "cell_type": "code",
   "execution_count": 48,
   "metadata": {},
   "outputs": [
    {
     "name": "stdout",
     "output_type": "stream",
     "text": [
      "Axes(0.125,0.125;0.775x0.755)\n"
     ]
    },
    {
     "data": {
      "image/png": "[encoded data removed]",
      "text/plain": [
       "<matplotlib.figure.Figure at 0x1895ffe2630>"
      ]
     },
     "metadata": {},
     "output_type": "display_data"
    }
   ],
   "source": [
    "print(df.app_day.plot(kind='hist'))       #average busiest day for all hospitals"
   ]
  },
  {
   "cell_type": "markdown",
   "metadata": {},
   "source": [
    ">It is be seen that, hospitals with high interval gap , hospitals with low interval gap were very similar, which is also similar to all hospitals on an avaerage<br>\n",
    ">Mondays, Tuesday and Wednesdays are the busiest days for most hospitals and Thrusday, Friday is significantly more free. Very negligibe people have appointments on Saturday and there were no appointments made on Sunday"
   ]
  },
  {
   "cell_type": "code",
   "execution_count": null,
   "metadata": {
    "collapsed": true
   },
   "outputs": [],
   "source": []
  }
 ],
 "metadata": {
  "kernelspec": {
   "display_name": "Python [conda env:python3]",
   "language": "python",
   "name": "conda-env-python3-py"
  },
  "language_info": {
   "codemirror_mode": {
    "name": "ipython",
    "version": 3
   },
   "file_extension": ".py",
   "mimetype": "text/x-python",
   "name": "python",
   "nbconvert_exporter": "python",
   "pygments_lexer": "ipython3",
   "version": "3.6.2"
  }
 },
 "nbformat": 4,
 "nbformat_minor": 2
}
